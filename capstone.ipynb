{
 "cells": [
  {
   "cell_type": "code",
   "execution_count": 26,
   "metadata": {},
   "outputs": [
    {
     "name": "stdout",
     "output_type": "stream",
     "text": [
      "Index(['Country', 'Year', 'Status', 'Life expectancy ', 'Adult Mortality',\n",
      "       'infant deaths', 'Alcohol', 'percentage expenditure', 'Hepatitis B',\n",
      "       'Measles ', ' BMI ', 'under-five deaths ', 'Polio', 'Total expenditure',\n",
      "       'Diphtheria ', ' HIV/AIDS', 'GDP', 'Population',\n",
      "       ' thinness  1-19 years', ' thinness 5-9 years',\n",
      "       'Income composition of resources', 'Schooling'],\n",
      "      dtype='object')\n"
     ]
    }
   ],
   "source": [
    "import pandas as pd\n",
    "import numpy as np\n",
    "from scipy import stats\n",
    "from sklearn.preprocessing import StandardScaler\n",
    "\n",
    "file_path = r'C:\\Users\\ksu09\\OneDrive\\Documents\\Data Analytics Masters Work\\capstone-young\\Life_Expectancy_Data.csv'\n",
    "data = pd.read_csv(file_path)\n",
    "\n",
    "# Print the column names to identify the correct column name for life expectancy\n",
    "print(data.columns)\n",
    "\n",
    "# Convert specific columns to appropriate data types\n",
    "data['Year'] = data['Year'].astype(int)\n",
    "data['Life expectancy '] = data['Life expectancy '].astype(float)\n",
    "\n",
    "# Identify and handle outliers using Z-score\n",
    "z_scores = np.abs(stats.zscore(data.select_dtypes(include=[np.number])))\n",
    "outliers = np.where(z_scores > 3)\n",
    "\n",
    "# Fill missing values only for numeric columns with their column means\n",
    "numeric_columns = data.select_dtypes(include=[np.number]).columns\n",
    "data[numeric_columns] = data[numeric_columns].fillna(data[numeric_columns].mean())\n",
    "\n",
    "# Standardize numerical columns\n",
    "scaler = StandardScaler()\n",
    "data[data.select_dtypes(include=[np.number]).columns] = scaler.fit_transform(data.select_dtypes(include=[np.number]))\n",
    "\n",
    "# Standardize categorical data\n",
    "data['Status'] = data['Status'].str.strip().str.capitalize()\n",
    "\n",
    "# Check for and remove duplicate records\n",
    "data = data.drop_duplicates()\n",
    "\n",
    "# Save the cleaned data to a new CSV file\n",
    "output_file_path = r'C:\\Users\\ksu09\\OneDrive\\Documents\\Data Analytics Masters Work\\capstone-young\\Life_Expectancy_Data_Cleaned.csv'\n",
    "data.to_csv(output_file_path, index=False)\n",
    "\n"
   ]
  }
 ],
 "metadata": {
  "kernelspec": {
   "display_name": "Python 3",
   "language": "python",
   "name": "python3"
  },
  "language_info": {
   "codemirror_mode": {
    "name": "ipython",
    "version": 3
   },
   "file_extension": ".py",
   "mimetype": "text/x-python",
   "name": "python",
   "nbconvert_exporter": "python",
   "pygments_lexer": "ipython3",
   "version": "3.11.4"
  }
 },
 "nbformat": 4,
 "nbformat_minor": 2
}
